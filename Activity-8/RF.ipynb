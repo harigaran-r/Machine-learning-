{
  "nbformat": 4,
  "nbformat_minor": 0,
  "metadata": {
    "colab": {
      "provenance": [],
      "authorship_tag": "ABX9TyOiklNg5iqr7g3BlI7ona9f",
      "include_colab_link": true
    },
    "kernelspec": {
      "name": "python3",
      "display_name": "Python 3"
    },
    "language_info": {
      "name": "python"
    }
  },
  "cells": [
    {
      "cell_type": "markdown",
      "metadata": {
        "id": "view-in-github",
        "colab_type": "text"
      },
      "source": [
        "<a href=\"https://colab.research.google.com/github/harigaran-r/Machine-learning-/blob/main/Activity-8/RF.ipynb\" target=\"_parent\"><img src=\"https://colab.research.google.com/assets/colab-badge.svg\" alt=\"Open In Colab\"/></a>"
      ]
    },
    {
      "cell_type": "code",
      "execution_count": 10,
      "metadata": {
        "colab": {
          "base_uri": "https://localhost:8080/"
        },
        "id": "YfnMY4-O_COw",
        "outputId": "1a9650bb-c11a-4cb6-dd2e-259f38a97b1d"
      },
      "outputs": [
        {
          "output_type": "stream",
          "name": "stdout",
          "text": [
            "Vote Counts for each fruit:\n",
            "apple: 43 votes\n",
            "banana: 34 votes\n",
            "mango: 23 votes\n",
            "\n",
            "Fruit most likely to be taken: apple (43/100 votes, 43.00%)\n"
          ]
        }
      ],
      "source": [
        "# Ensemble Decision Trees Example: Fruit Basket\n",
        "# Run this in Google Colab\n",
        "\n",
        "import pandas as pd\n",
        "import numpy as np\n",
        "from sklearn.tree import DecisionTreeClassifier\n",
        "from collections import Counter\n",
        "\n",
        "# Step 1: Create a fruit basket dataset\n",
        "# Features: color (0=red,1=yellow,2=green), size (0=small,1=medium,2=large)\n",
        "# Label: fruit type\n",
        "data = {\n",
        "    'color': [0, 0, 1, 2, 1, 0, 2, 2, 1, 0],\n",
        "    'size':  [1, 2, 1, 2, 0, 0, 1, 2, 2, 1],\n",
        "    'fruit': ['apple', 'apple', 'banana', 'banana', 'mango', 'apple', 'mango', 'banana', 'mango', 'apple']\n",
        "}\n",
        "\n",
        "df = pd.DataFrame(data)\n",
        "X = df[['color','size']]\n",
        "y = df['fruit']\n",
        "\n",
        "# Step 2: Create n bootstrap samples and train a decision tree on each\n",
        "n_trees = 10\n",
        "all_predictions = []\n",
        "\n",
        "for i in range(n_trees):\n",
        "    # Bootstrap sample\n",
        "    sample_idx = np.random.choice(range(len(df)), size=len(df), replace=True)\n",
        "    X_sample = X.iloc[sample_idx]\n",
        "    y_sample = y.iloc[sample_idx]\n",
        "\n",
        "    # Train Decision Tree\n",
        "    tree = DecisionTreeClassifier(random_state=i)\n",
        "    tree.fit(X_sample, y_sample)\n",
        "\n",
        "    # Predict the fruit for the entire dataset\n",
        "    pred = tree.predict(X)\n",
        "    all_predictions.extend(pred)  # collect all predictions\n",
        "\n",
        "# Step 3: Count votes and find the fruit most likely to be taken\n",
        "vote_counts = Counter(all_predictions)\n",
        "winner, votes = vote_counts.most_common(1)[0]\n",
        "total_predictions = len(all_predictions)\n",
        "\n",
        "print(\"Vote Counts for each fruit:\")\n",
        "for fruit, count in vote_counts.items():\n",
        "    print(f\"{fruit}: {count} votes\")\n",
        "\n",
        "print(f\"\\nFruit most likely to be taken: {winner} ({votes}/{total_predictions} votes, {votes/total_predictions:.2%})\")\n"
      ]
    }
  ]
}