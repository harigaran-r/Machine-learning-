{
  "nbformat": 4,
  "nbformat_minor": 0,
  "metadata": {
    "colab": {
      "provenance": [],
      "authorship_tag": "ABX9TyOWMGki58IT52agBku26UCk",
      "include_colab_link": true
    },
    "kernelspec": {
      "name": "python3",
      "display_name": "Python 3"
    },
    "language_info": {
      "name": "python"
    }
  },
  "cells": [
    {
      "cell_type": "markdown",
      "metadata": {
        "id": "view-in-github",
        "colab_type": "text"
      },
      "source": [
        "<a href=\"https://colab.research.google.com/github/harigaran-r/Machine-learning-/blob/main/Activity-7/Principal%20Component%20Analysis%201.ipynb\" target=\"_parent\"><img src=\"https://colab.research.google.com/assets/colab-badge.svg\" alt=\"Open In Colab\"/></a>"
      ]
    },
    {
      "cell_type": "code",
      "execution_count": 7,
      "metadata": {
        "colab": {
          "base_uri": "https://localhost:8080/"
        },
        "id": "YfnMY4-O_COw",
        "outputId": "bb6b5095-009a-44e0-8da8-8c58eff526db"
      },
      "outputs": [
        {
          "output_type": "stream",
          "name": "stdout",
          "text": [
            "Feature Importance:\n",
            " age_of_property    0.346939\n",
            "amenities_score    0.275510\n",
            "location_score     0.234694\n",
            "price              0.142857\n",
            "dtype: float64\n",
            "\n",
            "Classification Report:\n",
            "               precision    recall  f1-score   support\n",
            "\n",
            "           0       1.00      1.00      1.00         1\n",
            "           1       1.00      1.00      1.00         2\n",
            "\n",
            "    accuracy                           1.00         3\n",
            "   macro avg       1.00      1.00      1.00         3\n",
            "weighted avg       1.00      1.00      1.00         3\n",
            "\n"
          ]
        }
      ],
      "source": [
        ")\n",
        "import pandas as pd\n",
        "from sklearn.ensemble import RandomForestClassifier\n",
        "from sklearn.model_selection import train_test_split\n",
        "from sklearn.metrics import classification_report\n",
        "\n",
        "# Step 1: Create sample dataset\n",
        "data = {\n",
        "    'price': [80, 120, 95, 60, 200, 150, 70, 85, 130, 55],\n",
        "    'location_score': [9, 7, 8, 4, 10, 9, 3, 5, 8, 2],\n",
        "    'age_of_property': [2, 8, 5, 15, 1, 3, 18, 10, 7, 20],\n",
        "    'amenities_score': [8, 9, 7, 3, 10, 8, 2, 5, 6, 1],\n",
        "    'sold': [1, 1, 1, 0, 1, 1, 0, 0, 1, 0]  # 1 = sold, 0 = unsold\n",
        "}\n",
        "\n",
        "df = pd.DataFrame(data)\n",
        "\n",
        "# Step 2: Split data\n",
        "X = df[['price', 'location_score', 'age_of_property', 'amenities_score']]\n",
        "y = df['sold']\n",
        "\n",
        "# Step 3: Train model\n",
        "X_train, X_test, y_train, y_test = train_test_split(X, y, random_state=22, test_size=0.3)\n",
        "model = RandomForestClassifier(random_state=59)\n",
        "model.fit(X_train, y_train)\n",
        "\n",
        "# Step 4: Feature importance\n",
        "importances = pd.Series(model.feature_importances_, index=X.columns).sort_values(ascending=False)\n",
        "print(\"Feature Importance:\\n\", importances)\n",
        "\n",
        "# Step 5: Evaluate\n",
        "y_pred = model.predict(X_test)\n",
        "print(\"\\nClassification Report:\\n\", classification_report(y_test, y_pred))\n"
      ]
    }
  ]
}