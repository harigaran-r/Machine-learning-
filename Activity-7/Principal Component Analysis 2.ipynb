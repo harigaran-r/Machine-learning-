{
  "nbformat": 4,
  "nbformat_minor": 0,
  "metadata": {
    "colab": {
      "provenance": [],
      "authorship_tag": "ABX9TyNSKuTpkzrM7LmDYOALDuiO",
      "include_colab_link": true
    },
    "kernelspec": {
      "name": "python3",
      "display_name": "Python 3"
    },
    "language_info": {
      "name": "python"
    }
  },
  "cells": [
    {
      "cell_type": "markdown",
      "metadata": {
        "id": "view-in-github",
        "colab_type": "text"
      },
      "source": [
        "<a href=\"https://colab.research.google.com/github/harigaran-r/Machine-learning-/blob/main/Activity-7/Principal%20Component%20Analysis%202.ipynb\" target=\"_parent\"><img src=\"https://colab.research.google.com/assets/colab-badge.svg\" alt=\"Open In Colab\"/></a>"
      ]
    },
    {
      "cell_type": "code",
      "execution_count": 7,
      "metadata": {
        "colab": {
          "base_uri": "https://localhost:8080/"
        },
        "id": "YfnMY4-O_COw",
        "outputId": "bb6b5095-009a-44e0-8da8-8c58eff526db"
      },
      "outputs": [
        {
          "output_type": "stream",
          "name": "stdout",
          "text": [
            "Feature Importance:\n",
            " age_of_property    0.346939\n",
            "amenities_score    0.275510\n",
            "location_score     0.234694\n",
            "price              0.142857\n",
            "dtype: float64\n",
            "\n",
            "Classification Report:\n",
            "               precision    recall  f1-score   support\n",
            "\n",
            "           0       1.00      1.00      1.00         1\n",
            "           1       1.00      1.00      1.00         2\n",
            "\n",
            "    accuracy                           1.00         3\n",
            "   macro avg       1.00      1.00      1.00         3\n",
            "weighted avg       1.00      1.00      1.00         3\n",
            "\n"
          ]
        }
      ],
      "source": [
        "\n",
        "\n",
        "import pandas as pd\n",
        "from sklearn.decomposition import PCA\n",
        "import numpy as np\n",
        "\n",
        "data = {\n",
        "    'Climate':        [0.190, 0.017, 0.207],\n",
        "    'Housing':        [0.544, 0.020, 0.204],\n",
        "    'Health':         [0.782, -0.605, 0.144],\n",
        "    'Crime':          [0.365, 0.294, 0.585],\n",
        "    'Transportation': [0.585, 0.085, 0.234],\n",
        "    'Education':      [0.394, -0.273, 0.027],\n",
        "    'Arts':           [0.985, 0.126, -0.111],\n",
        "    'Recreation':     [0.520, 0.402, 0.519],\n",
        "    'Economy':        [0.142, 0.150, 0.239]\n",
        "}\n",
        "\n",
        "df = pd.DataFrame(data, index=['PC1','PC2','PC3']).T\n",
        "print(\"Original Loadings Table:\\n\", df, \"\\n\")\n",
        "\n",
        "principal_vars = df.apply(lambda col: col.abs().idxmax())\n",
        "print(\"Dominant Variable per Principal Component:\\n\", principal_vars, \"\\n\")\n",
        "\n",
        "\n",
        "max_var = df.abs().stack().idxmax()[0]\n",
        "max_value = df.abs().max().max()\n",
        "print(f\"Overall Principal Variable: {max_var} (|loading| = {max_value:.3f})\")\n"
      ]
    }
  ]
}